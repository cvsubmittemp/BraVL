{
 "cells": [
  {
   "cell_type": "code",
   "execution_count": 26,
   "metadata": {
    "collapsed": false
   },
   "outputs": [],
   "source": [
    "%matplotlib inline"
   ]
  },
  {
   "cell_type": "markdown",
   "metadata": {},
   "source": [
    "\n# Transform from Subject to MNI Space\n\nPycortex has built-in functionality for linearly transforming data to and from\nstandard atlas spaces (e.g. MNI-152). This functionality is built on top of FSL.\n\nThis example shows how to create a transform from some subject functional space\nto MNI space, and how to apply that transform to a dataset.\n"
   ]
  },
  {
   "cell_type": "code",
   "execution_count": 27,
   "metadata": {
    "collapsed": false
   },
   "outputs": [
    {
     "name": "stdout",
     "output_type": "stream",
     "text": [
      "Generating brainmask anatomical...\n",
      "Brain masking anatomical...\n",
      "Calling: fsl5.0-bet /data/home/cddu/anaconda3/envs/py3/share/pycortex/db/S1/anatomicals/raw.nii.gz /data/home/cddu/anaconda3/envs/py3/share/pycortex/db/S1/anatomicals/brainmask.nii.gz -B -v\n",
      "Determinant is > 0: FLIPPING!\n"
     ]
    },
    {
     "name": "stderr",
     "output_type": "stream",
     "text": [
      "/data/home/cddu/anaconda3/envs/py3/lib/python3.7/site-packages/ipykernel_launcher.py:22: DeprecationWarning: get_data() is deprecated in favor of get_fdata(), which has a more predictable return type. To obtain get_data() behavior going forward, use numpy.asanyarray(img.dataobj).\n",
      "\n",
      "* deprecated from version: 3.0\n",
      "* Will raise <class 'nibabel.deprecator.ExpiredDeprecationError'> as of version: 5.0\n"
     ]
    },
    {
     "name": "stdout",
     "output_type": "stream",
     "text": [
      "Determinant is > 0: FLIPPING!\n"
     ]
    }
   ],
   "source": [
    "import cortex\n\n# First let's do this \"manually\", using cortex.mni\nfrom cortex import mni\n\nimport numpy as np\nnp.random.seed(1234)\n\n# This transform is gonna be from one specific functional space for a subject\n# which is defined by the transform (xfm)\ns1_to_mni = mni.compute_mni_transform(subject='S1', xfm='fullhead')\n# s1_to_mni is a 4x4 array describing the transformation in homogeneous corods\n\n# Transform data from subject to MNI space\n# first we will create a dataset to transform\ndata = cortex.Volume.random('S1', 'fullhead')\n\n# then transform it!\nmni_data = mni.transform_to_mni(data, s1_to_mni)\n# mni_data is a nibabel Nifti1Image\n\nmni_data_vol = mni_data.get_data() # the actual array, shape=(182,218,182)\n\n# That was the manual method. pycortex can also cache these transforms for you\n# if you get them using the pycortex database\ns1_to_mni_db = cortex.db.get_mnixfm('S1', 'fullhead')\n# this is the same as s1_to_mni, but will return instantly on subsequent calls"
   ]
  }
 ],
 "metadata": {
  "kernelspec": {
   "name": "conda-env-py3-py",
   "language": "python",
   "display_name": "Python [conda env:py3]"
  },
  "language_info": {
   "codemirror_mode": {
    "name": "ipython",
    "version": 3
   },
   "file_extension": ".py",
   "mimetype": "text/x-python",
   "name": "python",
   "nbconvert_exporter": "python",
   "pygments_lexer": "ipython3",
   "version": "3.9.1"
  }
 },
 "nbformat": 4,
 "nbformat_minor": 0
}